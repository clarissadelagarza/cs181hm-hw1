{
 "cells": [
  {
   "cell_type": "markdown",
   "metadata": {},
   "source": [
    "#### week1 ~ the-web-as-filesystem...  &nbsp;&nbsp; (hw1pr1.ipynb)\n",
    "\n",
    "[the google doc with hw1's details](https://docs.google.com/document/d/11ALzpsANe3ZDR5sk8-kgaElaX_fwlDINVlQ8WS8JfQE/edit)\n",
    "<hr>"
   ]
  },
  {
   "cell_type": "markdown",
   "metadata": {},
   "source": [
    "#### Problem 1:  Traversing the world - and web - without a browser.   \n",
    "\n",
    "<b>Using the ISS + USGS APIs</b> \n",
    "\n",
    "(hw1pr1.ipynb)\n",
    "\n",
    "+ Here, you'll make sure you have the `requests` library and then you'll\n",
    "+ make some calls using `requests` to International Space Station API and the US Geological Survey's earthquake API\n",
    "+ \"API\" is short for \"Application Programming Interface\" \n",
    "  + Admittedly, this is not a very informative name, even fully expanded!\n",
    "  + The API refers to the set of services, usually functions and/or urls, provided by some software (or site)"
   ]
  },
  {
   "cell_type": "code",
   "execution_count": null,
   "metadata": {},
   "outputs": [],
   "source": [
    "#\n",
    "# see if you have the requests library\n",
    "#\n",
    "\n",
    "import requests"
   ]
  },
  {
   "cell_type": "code",
   "execution_count": null,
   "metadata": {},
   "outputs": [],
   "source": [
    "#\n",
    "# If you _don't_ have the requests library, let's install it!\n",
    "#\n",
    "\n",
    "# for me, it worked to uncomment and run this command, here in this cell:\n",
    "# !pip3 install requests  OR   !pip install requests\n",
    "\n",
    "# an alternative is to run, in a terminal, the command  \n",
    "#  pip3 install requests  OR    pip install requests   (the ! is needed only if inside Python)\n",
    "\n",
    "# however, the \"restart\" button (with the loop-arrow) \n",
    "#  was _not_ enough for my notebook to recognize the library installed\n",
    "\n",
    "# for me, I had to (1) disable + re-enable the jupyter extension\n",
    "# then, (2) disable + re-enable the python extension\n",
    "# which was enough to now \"see\" the newly installed library\n",
    "\n",
    "# \n",
    "# My hunch is that some systems will need a full vscode shutdown/restart...\n",
    "# The _Python: Select Interpreter_ command sems to help when it can find no kernels...\n",
    "# That command can be accessed with command-shift-p (Mac) or control-shift-p (Win)\n",
    "#"
   ]
  },
  {
   "cell_type": "code",
   "execution_count": null,
   "metadata": {},
   "outputs": [],
   "source": [
    "#\n",
    "# hopefully, this now works! (if so, it will succeed silently)\n",
    "#\n",
    "\n",
    "import requests"
   ]
  },
  {
   "cell_type": "markdown",
   "metadata": {},
   "source": [
    "Let's try it with the International Space Station api at [http://api.open-notify.org/iss-now.json](http://api.open-notify.org/iss-now.json)\n",
    "+ [This page has documentation on the ISS API](http://open-notify.org/Open-Notify-API/ISS-Location-Now/)"
   ]
  },
  {
   "cell_type": "code",
   "execution_count": null,
   "metadata": {},
   "outputs": [],
   "source": [
    "#\n",
    "# we assign the url and obtain the api-call result into result\n",
    "#    Note that result will be an object that contains many fields (not a simple string)\n",
    "# \n",
    "\n",
    "url = \"http://api.open-notify.org/iss-now.json\"\n",
    "result = requests.get(url)\n",
    "result    \n",
    "\n",
    "# if it succeeded, you should see <Response [200]>"
   ]
  },
  {
   "cell_type": "code",
   "execution_count": null,
   "metadata": {},
   "outputs": [],
   "source": [
    "#\n",
    "# when exploring, you'll often obtain an unfamiliar object. \n",
    "# Here, we'll ask what type it is \n",
    "type(result)"
   ]
  },
  {
   "cell_type": "code",
   "execution_count": null,
   "metadata": {},
   "outputs": [],
   "source": [
    "#\n",
    "# Here, we'll ask what fields it contains:  \n",
    "#       dir(ob) returns Python's \"directory\" of fields available in the object ob\n",
    "print(dir(result))"
   ]
  },
  {
   "cell_type": "code",
   "execution_count": null,
   "metadata": {},
   "outputs": [],
   "source": [
    "#\n",
    "# Let's try printing a few of those fields: \n",
    "print(f\"result.url is {result.url}\")  # the original url\n",
    "print(f\"result.raw is {result.raw}\")  # another object!\n",
    "print(f\"result.encoding is {result.encoding}\")  # utf-8 is very common\n",
    "print(f\"result.status_code is {result.status_code}\")  # 200 is success!"
   ]
  },
  {
   "cell_type": "code",
   "execution_count": null,
   "metadata": {},
   "outputs": [],
   "source": [
    "#\n",
    "# In this case, we know the result is a JSON file, and we can obtain it:\n",
    "json_contents = result.json()\n",
    "print(json_contents)\n",
    "\n",
    "# json is a javascript dictionary, which is (almost) the same as a Python dictionary"
   ]
  },
  {
   "cell_type": "code",
   "execution_count": null,
   "metadata": {},
   "outputs": [],
   "source": [
    "#\n",
    "# In Python, we can use the resulting dictionary... let's see its keys:\n",
    "print(list(json_contents.keys()))  \n",
    "\n",
    "# it has three keys :-)   Let's see the value for the key 'iss_position':\n",
    "print(f\"json_contents['iss_position'] is {json_contents['iss_position']}\")\n",
    "\n",
    "# It's another dictionary!  Let's give it a name -- and then look at its keys!\n",
    "val = json_contents['iss_position']\n",
    "print(list(val.keys()))     # it has the lat and long!"
   ]
  },
  {
   "cell_type": "code",
   "execution_count": null,
   "metadata": {},
   "outputs": [],
   "source": [
    "#\n",
    "# Notice that obtaining a specific piece of data may involve \"digging\" into the structure.\n",
    "# Here's the latitude of the ISS:\n",
    "val = json_contents['iss_position']\n",
    "print(f\"The ISS's longitude is {val['latitude']}\")\n",
    "\n",
    "# this is a string... if we want to compute with it, we'll need to convert to a numeric type!\n",
    "lat = float(val['latitude']) \n",
    "claremont_lat = 34.0967\n",
    "print(f\"The ISS is {abs(lat - claremont_lat)}° away from Claremont, latitudinally!\")"
   ]
  },
  {
   "cell_type": "code",
   "execution_count": null,
   "metadata": {},
   "outputs": [],
   "source": [
    "#\n",
    "# Your task!     (Task #1)\n",
    "#\n",
    "\n",
    "#\n",
    "# Continue the above reasoning to compute \n",
    "# (a) how many degrees of longitude the ISS is away from Claremont\n",
    "# (b) whether the ISS is closer to Claremont, longitudinally or latitudinally\n",
    "# (c) extra: estimate how many _miles_ away the ISS is from you right now...  \n",
    "#            (this will require some extra web-searching and estimating! :-)\n",
    "\n"
   ]
  },
  {
   "cell_type": "markdown",
   "metadata": {},
   "source": [
    "#### Not every url returns json data!\n",
    "+ The url [https://www.cs.hmc.edu/~dodds/demo.html](https://www.cs.hmc.edu/~dodds/demo.html) returns a plain-text file with _markup_ text\n",
    "+ that is to say, with HTML tags, such as `<title>Title</title>` to designate the components of its content\n",
    "+ HTML stands for _hypertext markup language_   \n",
    "+ Often anything with tags similar to `<b>be bold!</b>` is called \"markup.\" "
   ]
  },
  {
   "cell_type": "code",
   "execution_count": null,
   "metadata": {},
   "outputs": [],
   "source": [
    "#\n",
    "# here, we will obtain plain-text results from a request\n",
    "url = \"https://www.cs.hmc.edu/~dodds/demo.html\"  # try it + source\n",
    "#url = \"https://www.webb.org/\"  # try it + source\n",
    "result = requests.get(url)        \n",
    "print(f\"result is {result}\")        # hopefully it's 200\n",
    "text = result.text                  # provides the HTML page as a large string...\n",
    "print(f\"len(text) is {len(text)}\")  # let's see how large the HTML page is... "
   ]
  },
  {
   "cell_type": "code",
   "execution_count": null,
   "metadata": {},
   "outputs": [],
   "source": [
    "print(\"The first 42 characters are\\n\")\n",
    "print(text[:42])                  # we'll print the first few characters...  \n",
    "\n",
    "# change this to text[:] to see the whole document...\n",
    "# Notice that we can run many different analyses without having to re-call/re-scrape the page (this is good!)"
   ]
  },
  {
   "cell_type": "markdown",
   "metadata": {},
   "source": [
    "<br>\n",
    "\n",
    "#### But, we're going to focus on json-providing API calls for now \n",
    "+ for pr1 and pr2, at least, we'll use json\n",
    "+ pr3 has the _option_ of using BeautifulSoup to parse raw html (up to you)\n",
    "+ Next are anotehr example api call to the ISS (to obtain the current astronaut-list), and\n",
    "+ An api call to the USGS, for earthquake data\n",
    "+ Below, you'll use earthquake data to investigate seismic activity for you choice of place...\n",
    "+   ... summarizing over quake-magnitude, areas-of-relevance, and different months\n",
    "\n",
    "<br>\n",
    "\n"
   ]
  },
  {
   "cell_type": "code",
   "execution_count": null,
   "metadata": {},
   "outputs": [],
   "source": [
    "#\n",
    "# json takes some getting used to!\n",
    "# \n",
    "\n",
    "# These two json files (really dictionaries) are the first of this week's two \"quizzes\" (in-class exercises)\n",
    "\n",
    "#\n",
    "# Task #2:    try out the following examples, with an \"ear\" toward digesting what's going on...\n",
    "#"
   ]
  },
  {
   "cell_type": "code",
   "execution_count": null,
   "metadata": {},
   "outputs": [],
   "source": [
    "#\n",
    "# The astros!       http://api.open-notify.org/astros.json\n",
    "\n",
    "url = \"http://api.open-notify.org/astros.json\"\n",
    "result = requests.get(url)\n",
    "print(f\"result is {result}\")     # we will hope for a 200\n",
    "print(f\"the url used was {result.url}\")   # let's see the url again...\n",
    "json_contents = result.json()    # would throw an exception/error, if it were not json...  \n",
    "print(f\"json_contents.keys() are {list(json_contents.keys())}\")\n",
    "\n",
    "#\n",
    "# It's best to separate the obtaining of the data from its analysis.\n",
    "#   otherwise, you might accidentally obtain the data too often, \n",
    "#   angering the data-provider, who can stop listening to you..."
   ]
  },
  {
   "cell_type": "code",
   "execution_count": null,
   "metadata": {},
   "outputs": [],
   "source": [
    "#\n",
    "# The astros as a json structure (dictionary)\n",
    "d = json_contents\n",
    "\n",
    "# equivalently,\n",
    "# d = {\"people\": [{\"craft\": \"ISS\", \"name\": \"Mark Vande Hei\"}, {\"craft\": \"ISS\", \"name\": \"Pyotr Dubrov\"}, {\"craft\": \"ISS\", \"name\": \"Anton Shkaplerov\"}, {\"craft\": \"Shenzhou 13\", \"name\": \"Zhai Zhigang\"}, {\"craft\": \"Shenzhou 13\", \"name\": \"Wang Yaping\"}, {\"craft\": \"Shenzhou 13\", \"name\": \"Ye Guangfu\"}, {\"craft\": \"ISS\", \"name\": \"Raja Chari\"}, {\"craft\": \"ISS\", \"name\": \"Tom Marshburn\"}, \n",
    "# {\"craft\": \"ISS\", \"name\": \"Kayla Barron\"}, {\"craft\": \"ISS\", \"name\": \"Matthias Maurer\"}], \"message\": \"success\", \"number\": 10}\n",
    "\n",
    "d           # this plain-value formats more neatly than print(d)\n",
    "print(d)    # this look illustrates how nice it is to have a scripting language interpret things!"
   ]
  },
  {
   "cell_type": "code",
   "execution_count": null,
   "metadata": {},
   "outputs": [],
   "source": [
    "#\n",
    "# let's explore d...  Can we access 'Raja'?\n",
    "d[\"people\"][2]"
   ]
  },
  {
   "cell_type": "code",
   "execution_count": null,
   "metadata": {},
   "outputs": [],
   "source": [
    "#\n",
    "# Let's loop over all of the names:\n",
    "N = len(d[\"people\"])\n",
    "\n",
    "for i in range(N):  # loop over each index of d[\"people\"]\n",
    "    craft = d[\"people\"][i][\"craft\"]\n",
    "    person = d[\"people\"][i][\"name\"]\n",
    "    print(f\"Item {i} is {person} on the {craft}\")"
   ]
  },
  {
   "cell_type": "markdown",
   "metadata": {},
   "source": [
    "<br>\n",
    "\n",
    "#### Earthquake data\n",
    "[Here is the USGS Earthquate data API documentation](https://earthquake.usgs.gov/fdsnws/event/1/)\n",
    "\n",
    "<br>"
   ]
  },
  {
   "cell_type": "code",
   "execution_count": null,
   "metadata": {},
   "outputs": [],
   "source": [
    "#\n",
    "# The quakes!   https://earthquake.usgs.gov/fdsnws/event/1/query?format=geojson&minmagnitude=5.6&starttime=2022-01-23&endtime=2022-01-26\n",
    "\n",
    "url = \"https://earthquake.usgs.gov/fdsnws/event/1/query\"\n",
    "# note that this is much shorter than the above full url...\n",
    "# that latter half consists of parameters to the API call...\n",
    "# the parameters are documented here: \n",
    "#     https://earthquake.usgs.gov/fdsnws/event/1/#parameters\n",
    "\n",
    "# for three of the parameters, let's use variables:\n",
    "min_mag = 5.6               # the minimum magnitude considered a quake (min_mag)\n",
    "start_time = \"2022-01-23\"   # this is the year-month-day format of the start\n",
    "finish_time = \"2022-01-26\"  # similar for the end\n",
    "\n",
    "# we assemble a dictionary of our parameters, named param_d\n",
    "# there are many more parameters available. The problems below ask you to explore them...\n",
    "param_d = {  \"format\":\"geojson\",         # this is simply hard-coded to obtain json\n",
    "             \"starttime\":start_time,\n",
    "             \"endtime\":finish_time,\n",
    "             \"minmagnitude\":min_mag,\n",
    "          }\n",
    "\n",
    "result = requests.get(url, params=param_d)     # a named input, params, taking the value param_d, above\n",
    "print(f\"result is {result}\")                   # hopefully, this is 200\n",
    "print(f\"the full url used was\\n {result.url}\")   # this includes the parameters!\n",
    "json_contents = result.json()    # would throw an exception/error, if it were not json...  \n",
    "print(f\"json_contents.keys() are {list(json_contents.keys())}\")\n",
    "\n",
    "#\n",
    "# It's best to separate the obtaining of the data from its analysis.\n",
    "#   otherwise, you might accidentally obtain the data too often, \n",
    "#   angering the data-provider, who can stop listening to you..."
   ]
  },
  {
   "cell_type": "code",
   "execution_count": null,
   "metadata": {},
   "outputs": [],
   "source": [
    "#\n",
    "# The quakes as a json structure (dictionary)\n",
    "d = json_contents\n",
    "\n",
    "d    # this plain-value formats more neatly than print(d)"
   ]
  },
  {
   "cell_type": "code",
   "execution_count": null,
   "metadata": {},
   "outputs": [],
   "source": [
    "#\n",
    "# let's explore:\n",
    "print(f'len(d[\"features\"]) is {len(d[\"features\"])}')\n",
    "\n",
    "i = 0\n",
    "d[\"features\"][i][\"properties\"]\n"
   ]
  },
  {
   "cell_type": "code",
   "execution_count": null,
   "metadata": {},
   "outputs": [],
   "source": [
    "#\n",
    "# with the structure, we can loop over them, extracting what we want, e.g., place:\n",
    "\n",
    "# loop over them\n",
    "N = len(d[\"features\"])\n",
    "for i in range(N):\n",
    "    print(f'Item {i} was in this place: {d[\"features\"][i][\"properties\"][\"place\"]}')"
   ]
  },
  {
   "cell_type": "code",
   "execution_count": null,
   "metadata": {},
   "outputs": [],
   "source": [
    "#\n",
    "# Your task!     (Tasks #3 and #4)\n",
    "#\n",
    "\n",
    "#\n",
    "# Continue the example below to create  \n",
    "# (a) a larger set of API calls to the USGS \"count\" endpoint (each returns a json result)\n",
    "# (b) a correspondingly larger text-formatted table of seismic activity (for Claremont, to start...)\n",
    "# (c) the same larger table for another place (lat/long) of your choice \n",
    "# (d) a measurement-value (\"metric\") of your own design, of \"seismic volatility\"\n",
    "# (e) answer which of Claremont + your other spot is more \"seismically volatile\"?\n",
    "# (f) answer which _month_ is the most seismically volatile (your choice of location)\n",
    "# \n",
    "# additional details (and hints) are in the hw1 google doc, as well...    On to these _unshakable_ inquiries: "
   ]
  },
  {
   "cell_type": "code",
   "execution_count": null,
   "metadata": {},
   "outputs": [],
   "source": [
    "#\n",
    "# This example uses a different API:     https://earthquake.usgs.gov/fdsnws/event/1/count\n",
    "#\n",
    "\n",
    "import time\n",
    "url = \"https://earthquake.usgs.gov/fdsnws/event/1/count\"\n",
    "\n",
    "# the parameters are documented here: \n",
    "#     https://earthquake.usgs.gov/fdsnws/event/1/#parameters\n",
    "\n",
    "# we will be more ambitious with our API calls and parameters:\n",
    "min_mag_list = [2.42, 4.42]      # now, a list of these!\n",
    "start_time = \"2022-01-01\"   # this is the year-month-day format of the start\n",
    "finish_time = \"2022-01-31\"  # similar for the end\n",
    "\n",
    "all_jsons = {}  # an empty dictionary, to hold all of the resulting jsons...\n",
    "\n",
    "# This time, we loop over our different min-magnitudes\n",
    "for min_mag in min_mag_list:   # element-by-element looping, not index-based looping\n",
    "\n",
    "    param_d = { \"format\":\"geojson\",         # this is simply hard-coded\n",
    "                \"starttime\":start_time,\n",
    "                \"endtime\":finish_time,\n",
    "                \"minmagnitude\":min_mag,\n",
    "            }\n",
    "\n",
    "    result = requests.get(url, params=param_d)     # a named input, params, taking the value param_d, above\n",
    "    print(f\"for min_mag = {min_mag}, the result is {result}\")                   # hopefully, this is 200\n",
    "    print(f\"the full url used was {result.url}\")   # this includes the parameters!\n",
    "    json_contents = result.json()    \n",
    "    all_jsons[min_mag] = json_contents    # STORE INTO OUR STRUCTURE, named all_jsons\n",
    "    print(f\"json_contents is {json_contents}\")\n",
    "    time.sleep(0.1)                       # polite!\n",
    "\n",
    "#\n",
    "# It's best to separate the obtaining of the data from its analysis.\n",
    "#   otherwise, you might accidentally obtain the data too often, \n",
    "#   angering the data-provider, who can stop listening to you..."
   ]
  },
  {
   "cell_type": "code",
   "execution_count": null,
   "metadata": {},
   "outputs": [],
   "source": [
    "#\n",
    "# A starter table, with the two json results now in all_jsons\n",
    "#\n",
    "\n",
    "print(f'| {\"-- globally --\":^25s} |')                # ^ means \"center\"\n",
    "print(f'|   {\"min_mag\":>10s} ~ {\"count\":>8s}   |')   # > means \"right justify\"\n",
    "for min_mag in all_jsons:                            # loop over the keys, which are the min_mag floats\n",
    "    current_json = all_jsons[min_mag]                # get the current json result\n",
    "    current_count = current_json['count']            # obtain its count value\n",
    "    print(f\"|   {min_mag:>10.2f} ~ {current_count:>8d}   |\") "
   ]
  },
  {
   "cell_type": "code",
   "execution_count": null,
   "metadata": {},
   "outputs": [],
   "source": []
  },
  {
   "cell_type": "code",
   "execution_count": null,
   "metadata": {},
   "outputs": [],
   "source": []
  }
 ],
 "metadata": {
  "interpreter": {
   "hash": "7ccb4bb6bd67730c9185e6c24c983362cd7b4575b595bfae100d8d91e48f4f1e"
  },
  "kernelspec": {
   "display_name": "Python 3.8.8 64-bit (conda)",
   "language": "python",
   "name": "python3"
  },
  "language_info": {
   "codemirror_mode": {
    "name": "ipython",
    "version": 3
   },
   "file_extension": ".py",
   "mimetype": "text/x-python",
   "name": "python",
   "nbconvert_exporter": "python",
   "pygments_lexer": "ipython3",
   "version": "3.10.2"
  },
  "orig_nbformat": 4
 },
 "nbformat": 4,
 "nbformat_minor": 2
}
