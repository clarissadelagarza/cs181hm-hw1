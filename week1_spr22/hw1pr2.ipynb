{
 "cells": [
  {
   "cell_type": "markdown",
   "metadata": {},
   "source": [
    "#### week1 ~ the-web-as-filesystem...   &nbsp;&nbsp; (hw1pr2.ipynb)\n",
    "\n",
    "[the google doc with hw1's details](https://docs.google.com/document/d/11ALzpsANe3ZDR5sk8-kgaElaX_fwlDINVlQ8WS8JfQE/edit)\n",
    "<hr>"
   ]
  },
  {
   "cell_type": "markdown",
   "metadata": {},
   "source": [
    "#### Problem 2:  \"Artist analysis\" with the iTunes search API...\n",
    "\n",
    "(hw1pr2.ipynb)\n",
    "\n",
    "FIX!!!\n",
    "\n",
    "+ Here, you'll make sure you have the `requests` library and then you'll\n",
    "+ make some calls using `requests` to International Space Station API and the US Geological Survey's earthquake API\n",
    "+ \"API\" is short for \"Application Programming Interface\" \n",
    "  + Admittedly, this is not a very informative name, even fully expanded!\n",
    "  + The API refers to the set of services, usually functions and/or urls, provided by some software (or site)"
   ]
  },
  {
   "cell_type": "code",
   "execution_count": null,
   "metadata": {},
   "outputs": [],
   "source": [
    "#\n",
    "# see if you have the requests library  (does this succeed?)\n",
    "#\n",
    "#    if you _don't_ have it, head back to hw0pr1.ipynb to be sure it's installed!\n",
    "#    troubles?  Ask us! ... or others who have a similar set up.\n",
    "\n",
    "import requests"
   ]
  },
  {
   "cell_type": "code",
   "execution_count": null,
   "metadata": {},
   "outputs": [],
   "source": [
    "#\n",
    "# let's wrap our requests in a function with a specific purpose\n",
    "#\n",
    "\n",
    "def get_id_from_name(artist_name):\n",
    "    \"\"\" This function takes in \n",
    "           artist_name:  a string, e.g., \"Lizzo\" or \"Taylor Swift\" or ...\n",
    "           and returns the artist's id#\n",
    "\n",
    "        Return -1 to signal an error if there was no match.\n",
    "    \"\"\"\n",
    "    # good to keep in mind: you don't _have_ to re-download data, if you have already\n",
    "    # this (hand-created) table of already-found ids will save API calls (yours will differ! :-)\n",
    "    if artist_name == \"Kendrick Lamar\": return 368183298\n",
    "    \n",
    "    # Not in the table above? Use the itunes search API to get an artist's itunes ID\n",
    "    search_url = \"https://itunes.apple.com/search\"\n",
    "\n",
    "    parameters = {  \"term\":artist_name,\n",
    "                    \"entity\":\"musicArtist\",\n",
    "                    \"media\":\"music\",\n",
    "                    \"limit\":200  }\n",
    "\n",
    "    result = requests.get(search_url, params=parameters)\n",
    "    # print(result.url)\n",
    "    # print(f\"result.status_code is {result.status_code}\")\n",
    "    if result.status_code == 200:\n",
    "        data = result.json()   # this is _ALL_ the data\n",
    "        #\n",
    "        # here, you need to extract the desired artist id!\n",
    "        #\n",
    "        return data\n",
    "        # for the moment, the above just returns all of the data.\n",
    "    else:\n",
    "        print(f\"the request result was {result}, returning {{}}\")  # wow\n",
    "        return {}    # return no data \n",
    "\n",
    "if True:\n",
    "    artist_name = \"Kendrick Lamar\"   # Note:  The code \"cheated,\" sort of...   (See above)\n",
    "    #artist_name = \"Taylor Swift\"\n",
    "    #artist_name = \"Lizzo\"\n",
    "    #artist_name = \"The Beatles\"\n",
    "    result = get_id_from_name(artist_name)\n",
    "    print(f\"artist id for {artist_name} is {result}\")\n",
    " "
   ]
  },
  {
   "cell_type": "code",
   "execution_count": null,
   "metadata": {},
   "outputs": [],
   "source": [
    "#\n",
    "# Your task (#1 of 4)\n",
    "#\n",
    "\n",
    "#\n",
    "# Alter the above function, get_id_from_name, so that it return the id of the artist input.\n",
    "# If there are many, we'll go with the first id.  Try it out!\n",
    "#"
   ]
  },
  {
   "cell_type": "code",
   "execution_count": null,
   "metadata": {},
   "outputs": [],
   "source": [
    "#\n",
    "# Your task (#2 of 4)\n",
    "#\n",
    "# Write a function     get_albums_from_id(id)\n",
    "#\n",
    "# This function should take in an artistId (named id) and return the _whole_ json-obtained dictionary of album data\n",
    "# \n",
    "# For sure, feel free to visit the itunes documentation (linked in the hw).\n",
    "#\n",
    "# It's also possible simply to adapt the first function, above, using this url:\n",
    "#    https://itunes.apple.com/lookup?entity=album&id=472949623&limit=200\n",
    "#\n",
    "# If you paste it into your browser, it should either provide the results in a tab -- or directly download them\n",
    "#    from which you can open them up in vscode :-)\n",
    "#\n"
   ]
  },
  {
   "cell_type": "code",
   "execution_count": null,
   "metadata": {},
   "outputs": [],
   "source": [
    "#\n",
    "# Your task (#3 of 4)\n",
    "#\n",
    "# Write a function     more_productive( artist_name1, artist_name2 )\n",
    "#\n",
    "# This function should \n",
    "#    + take two artist names\n",
    "#    + look up their ids                         [web-access number one]\n",
    "#    + using those ids, obtain their album data  [web-access number two]\n",
    "#    + then, from that data, determine who has produced more albums and report that result\n",
    "#\n",
    "\n",
    "# here are two example outputs (feel free to format as you'd like...)\n",
    "\n",
    "\"\"\"\n",
    "*** Comparing Artist Productivity ***\n",
    "\n",
    "Steve Perry: 11 results\n",
    "Katy Perry: 87 results\n",
    "(((Katy Perry has more!)))\n",
    "\n",
    "Adele: 11 results\n",
    "Lorde: 17 results\n",
    "(((Lorde has more!)))\n",
    "\"\"\""
   ]
  },
  {
   "cell_type": "code",
   "execution_count": null,
   "metadata": {},
   "outputs": [],
   "source": [
    "#\n",
    "# Your task (#4 of 4)\n",
    "#\n",
    "# Write your own function     another_inquiry( artist_name1, artist_name2 )    \n",
    "#\n",
    "# feel free to choose another name :-)\n",
    "#\n",
    "# This function should run another comparison of some sort,\n",
    "#    but comparing something _else_ about the artists!  \n",
    "# \n",
    "# The results below were from comparing which artist had more \n",
    "# albums whose primary genre classification was \"pop\" \n",
    "#\n",
    "\n",
    "\"\"\"\n",
    "*** Comparing Pop Productivity ***\n",
    "\n",
    "Steve Perry: 0 pop results\n",
    "Katy Perry: 72 pop results\n",
    "(((Katy Perry has more pop!)))\n",
    "\n",
    "Adele: 11 pop results\n",
    "Lorde: 1 pop results\n",
    "(((Adele has more pop!)))\n",
    "\n",
    "Alicia Keys: 3 pop results\n",
    "Jennifer Hudson: 9 pop results\n",
    "(((Jennifer Hudson has more pop!)))\n",
    "\"\"\""
   ]
  },
  {
   "cell_type": "code",
   "execution_count": null,
   "metadata": {},
   "outputs": [],
   "source": []
  }
 ],
 "metadata": {
  "interpreter": {
   "hash": "7ccb4bb6bd67730c9185e6c24c983362cd7b4575b595bfae100d8d91e48f4f1e"
  },
  "kernelspec": {
   "display_name": "Python 3.8.8 64-bit (conda)",
   "language": "python",
   "name": "python3"
  },
  "language_info": {
   "codemirror_mode": {
    "name": "ipython",
    "version": 3
   },
   "file_extension": ".py",
   "mimetype": "text/x-python",
   "name": "python",
   "nbconvert_exporter": "python",
   "pygments_lexer": "ipython3",
   "version": "3.10.2"
  },
  "orig_nbformat": 4
 },
 "nbformat": 4,
 "nbformat_minor": 2
}
